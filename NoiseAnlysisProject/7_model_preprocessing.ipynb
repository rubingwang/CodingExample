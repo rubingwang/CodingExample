{
 "cells": [
  {
   "cell_type": "markdown",
   "metadata": {},
   "source": [
    "# Import Modules"
   ]
  },
  {
   "cell_type": "code",
   "execution_count": 1,
   "metadata": {
    "ExecuteTime": {
     "end_time": "2023-06-02T13:36:10.133774Z",
     "start_time": "2023-06-02T13:36:08.093001Z"
    }
   },
   "outputs": [
    {
     "name": "stdout",
     "output_type": "stream",
     "text": [
      "Intel MKL WARNING: Support of Intel(R) Streaming SIMD Extensions 4.2 (Intel(R) SSE4.2) enabled only processors has been deprecated. Intel oneAPI Math Kernel Library 2025.0 will require Intel(R) Advanced Vector Extensions (Intel(R) AVX) instructions.\n",
      "Intel MKL WARNING: Support of Intel(R) Streaming SIMD Extensions 4.2 (Intel(R) SSE4.2) enabled only processors has been deprecated. Intel oneAPI Math Kernel Library 2025.0 will require Intel(R) Advanced Vector Extensions (Intel(R) AVX) instructions.\n"
     ]
    }
   ],
   "source": [
    "import pandas as pd\n",
    "import seaborn as sns\n",
    "import matplotlib.pyplot as plt\n",
    "from sklearn.preprocessing import OneHotEncoder"
   ]
  },
  {
   "cell_type": "code",
   "execution_count": 2,
   "metadata": {},
   "outputs": [],
   "source": [
    "# display all columns\n",
    "pd.set_option('display.max_columns', None)"
   ]
  },
  {
   "cell_type": "markdown",
   "metadata": {
    "heading_collapsed": true
   },
   "source": [
    "# Import Data"
   ]
  },
  {
   "cell_type": "code",
   "execution_count": 3,
   "metadata": {
    "hidden": true
   },
   "outputs": [],
   "source": [
    "# import data\n",
    "weather = pd.read_csv('../data/processed/model_weather.csv')\n",
    "event = pd.read_csv('../data/processed//model_event.csv')\n",
    "noise_event = pd.read_csv('../data/processed//model_export41_noise_event.csv')\n",
    "noise_measurement = pd.read_csv('../data/processed/export40_noise_measurements.csv')\n",
    "\n",
    "# import export 42 data\n",
    "noise_measurement_2 = pd.read_csv('../data/processed/export42_update.csv')\n",
    "cols = ['#object_id','result_timestamp','day','hour','lamax','laeq']\n",
    "noise_measurement_2 = noise_measurement_2[cols]"
   ]
  },
  {
   "cell_type": "code",
   "execution_count": 4,
   "metadata": {
    "hidden": true
   },
   "outputs": [],
   "source": [
    "# standardize column names\n",
    "event = event.rename(columns={'date': 'DATEUTC'})\n",
    "noise_event = noise_event.rename(columns={'hourly_timestamp':'DATEUTC'})\n",
    "noise_measurement = noise_measurement.rename(columns={'result_timestamp':'DATEUTC'})\n",
    "noise_measurement_2 = noise_measurement_2.rename(columns={'result_timestamp':'DATEUTC'})"
   ]
  },
  {
   "cell_type": "markdown",
   "metadata": {
    "heading_collapsed": true
   },
   "source": [
    "# Merge Data"
   ]
  },
  {
   "cell_type": "code",
   "execution_count": 5,
   "metadata": {
    "hidden": true
   },
   "outputs": [],
   "source": [
    "# combine tables with noise events\n",
    "df_noise_final = noise_measurement.merge(weather,on='DATEUTC').merge(event,on='DATEUTC')\\\n",
    ".merge(noise_event,on=['DATEUTC','description'],how='left') # left outer join"
   ]
  },
  {
   "cell_type": "markdown",
   "metadata": {},
   "source": [
    "# Column Selection"
   ]
  },
  {
   "cell_type": "code",
   "execution_count": 6,
   "metadata": {},
   "outputs": [],
   "source": [
    "# Drop columns not needed for modelling\n",
    "drop_cols = ['Date','Month','Hour','Day','result_date','result_isoweek',\n",
    "            '#object_id', 'DATEUTC',\n",
    "            'LC_RAD60','event_count']\n",
    "\n",
    "# Laf measures\n",
    "laf_cols = [c for c in df_noise_final.columns if 'laf' in c and 'laf50' not in c]\n",
    "\n",
    "# drop also laf measures except laf50\n",
    "drop_cols.extend(laf_cols)\n",
    "\n",
    "df_noise_final.drop(columns=drop_cols,inplace=True)"
   ]
  },
  {
   "cell_type": "code",
   "execution_count": 7,
   "metadata": {
    "scrolled": true
   },
   "outputs": [
    {
     "name": "stdout",
     "output_type": "stream",
     "text": [
      "<class 'pandas.core.frame.DataFrame'>\n",
      "Int64Index: 50320 entries, 0 to 50319\n",
      "Data columns (total 15 columns):\n",
      " #   Column             Non-Null Count  Dtype  \n",
      "---  ------             --------------  -----  \n",
      " 0   description        50320 non-null  object \n",
      " 1   laf50_per_hour     50320 non-null  float64\n",
      " 2   result_hour        50320 non-null  int64  \n",
      " 3   result_dayofweek   50320 non-null  int64  \n",
      " 4   result_month       50320 non-null  int64  \n",
      " 5   Temperature        50320 non-null  float64\n",
      " 6   LC_HUMIDITY        50320 non-null  float64\n",
      " 7   LC_RAININ          50320 non-null  float64\n",
      " 8   LC_WINDSPEED       50320 non-null  float64\n",
      " 9   break              50320 non-null  int64  \n",
      " 10  class_human        21724 non-null  float64\n",
      " 11  class_music        21724 non-null  float64\n",
      " 12  class_transport    21724 non-null  float64\n",
      " 13  class_unsupported  21724 non-null  float64\n",
      " 14  class_wind         21724 non-null  float64\n",
      "dtypes: float64(10), int64(4), object(1)\n",
      "memory usage: 6.1+ MB\n"
     ]
    }
   ],
   "source": [
    "df_noise_final.info()"
   ]
  },
  {
   "cell_type": "markdown",
   "metadata": {},
   "source": [
    "# Ouput CSV"
   ]
  },
  {
   "cell_type": "code",
   "execution_count": 8,
   "metadata": {},
   "outputs": [],
   "source": [
    "df_noise_final.to_csv('../data/processed/model_data_bef_engineering.csv',index=False)"
   ]
  }
 ],
 "metadata": {
  "kernelspec": {
   "display_name": "Python 3 (ipykernel)",
   "language": "python",
   "name": "python3"
  },
  "language_info": {
   "codemirror_mode": {
    "name": "ipython",
    "version": 3
   },
   "file_extension": ".py",
   "mimetype": "text/x-python",
   "name": "python",
   "nbconvert_exporter": "python",
   "pygments_lexer": "ipython3",
   "version": "3.9.12"
  }
 },
 "nbformat": 4,
 "nbformat_minor": 1
}
