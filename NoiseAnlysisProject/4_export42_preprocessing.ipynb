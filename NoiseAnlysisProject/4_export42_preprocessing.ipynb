{
 "cells": [
  {
   "cell_type": "code",
   "execution_count": 1,
   "id": "d4ec63b9",
   "metadata": {
    "ExecuteTime": {
     "end_time": "2023-06-04T11:10:40.428941Z",
     "start_time": "2023-06-04T11:10:40.427215Z"
    }
   },
   "outputs": [],
   "source": [
    "# Import packages\n",
    "import pandas as pd"
   ]
  },
  {
   "cell_type": "markdown",
   "source": [
    "### Import Data"
   ],
   "metadata": {
    "collapsed": false
   }
  },
  {
   "cell_type": "code",
   "execution_count": 64,
   "id": "bd40826d",
   "metadata": {
    "ExecuteTime": {
     "end_time": "2023-06-04T11:41:13.353894Z",
     "start_time": "2023-06-04T11:40:58.937605Z"
    }
   },
   "outputs": [],
   "source": [
    "files=[\n",
    "    'csv_results_42_255441_mp-03-naamsestraat-62-taste.csv',\n",
    "    'csv_results_42_255442_mp-05-calvariekapel-ku-leuven.csv',\n",
    "    'csv_results_42_255443_mp-06-parkstraat-2-la-filosovia.csv',\n",
    "    'csv_results_42_255444_mp-07-naamsestraat-81.csv',\n",
    "]\n",
    "\n",
    "# Loop through each csv in list files and read them into a consolidated dataframe\n",
    "df=pd.DataFrame()\n",
    "for file in files:\n",
    "    file='../data/raw/export_42/'+file\n",
    "    df_temp = pd.read_csv(file,sep=';')\n",
    "    df = pd.concat([df,df_temp])"
   ]
  },
  {
   "cell_type": "markdown",
   "source": [
    "### Preprocess Data"
   ],
   "metadata": {
    "collapsed": false
   }
  },
  {
   "cell_type": "code",
   "execution_count": 65,
   "id": "a480b503",
   "metadata": {
    "ExecuteTime": {
     "end_time": "2023-06-04T11:41:30.278235Z",
     "start_time": "2023-06-04T11:41:29.376084Z"
    }
   },
   "outputs": [],
   "source": [
    "# Convert column 'result_timestamp' to datetime\n",
    "df['result_timestamp'] = pd.to_datetime(df['result_timestamp'],format='%d/%m/%Y %H:%M:%S.%f')\n",
    "\n",
    "# Remove the milliseconds\n",
    "df['result_timestamp'] = df['result_timestamp'].dt.floor('h')\n",
    "\n",
    "# Drop unit related text columns\n",
    "df=df.drop(['lamax_unit','laeq_unit','lceq_unit','lcpeak_unit'],axis=1)"
   ]
  },
  {
   "cell_type": "code",
   "execution_count": 66,
   "id": "11712cb3",
   "metadata": {
    "ExecuteTime": {
     "end_time": "2023-06-04T11:41:30.288409Z",
     "start_time": "2023-06-04T11:41:30.286202Z"
    }
   },
   "outputs": [
    {
     "data": {
      "text/plain": "   #object_id                   description result_timestamp  lamax  laeq  \\\n0      255441  MP 03: Naamsestraat 62 Taste       2022-01-01   87.6  82.7   \n1      255441  MP 03: Naamsestraat 62 Taste       2022-01-01   84.5  83.1   \n2      255441  MP 03: Naamsestraat 62 Taste       2022-01-01   84.8  82.7   \n3      255441  MP 03: Naamsestraat 62 Taste       2022-01-01   81.9  79.3   \n4      255441  MP 03: Naamsestraat 62 Taste       2022-01-01   78.3  76.0   \n\n    lceq  lcpeak  \n0  83.61   97.17  \n1  84.42   96.41  \n2  84.19   96.24  \n3  81.08   94.03  \n4  77.12   89.81  ",
      "text/html": "<div>\n<style scoped>\n    .dataframe tbody tr th:only-of-type {\n        vertical-align: middle;\n    }\n\n    .dataframe tbody tr th {\n        vertical-align: top;\n    }\n\n    .dataframe thead th {\n        text-align: right;\n    }\n</style>\n<table border=\"1\" class=\"dataframe\">\n  <thead>\n    <tr style=\"text-align: right;\">\n      <th></th>\n      <th>#object_id</th>\n      <th>description</th>\n      <th>result_timestamp</th>\n      <th>lamax</th>\n      <th>laeq</th>\n      <th>lceq</th>\n      <th>lcpeak</th>\n    </tr>\n  </thead>\n  <tbody>\n    <tr>\n      <th>0</th>\n      <td>255441</td>\n      <td>MP 03: Naamsestraat 62 Taste</td>\n      <td>2022-01-01</td>\n      <td>87.6</td>\n      <td>82.7</td>\n      <td>83.61</td>\n      <td>97.17</td>\n    </tr>\n    <tr>\n      <th>1</th>\n      <td>255441</td>\n      <td>MP 03: Naamsestraat 62 Taste</td>\n      <td>2022-01-01</td>\n      <td>84.5</td>\n      <td>83.1</td>\n      <td>84.42</td>\n      <td>96.41</td>\n    </tr>\n    <tr>\n      <th>2</th>\n      <td>255441</td>\n      <td>MP 03: Naamsestraat 62 Taste</td>\n      <td>2022-01-01</td>\n      <td>84.8</td>\n      <td>82.7</td>\n      <td>84.19</td>\n      <td>96.24</td>\n    </tr>\n    <tr>\n      <th>3</th>\n      <td>255441</td>\n      <td>MP 03: Naamsestraat 62 Taste</td>\n      <td>2022-01-01</td>\n      <td>81.9</td>\n      <td>79.3</td>\n      <td>81.08</td>\n      <td>94.03</td>\n    </tr>\n    <tr>\n      <th>4</th>\n      <td>255441</td>\n      <td>MP 03: Naamsestraat 62 Taste</td>\n      <td>2022-01-01</td>\n      <td>78.3</td>\n      <td>76.0</td>\n      <td>77.12</td>\n      <td>89.81</td>\n    </tr>\n  </tbody>\n</table>\n</div>"
     },
     "execution_count": 66,
     "metadata": {},
     "output_type": "execute_result"
    }
   ],
   "source": [
    "df.head()"
   ]
  },
  {
   "cell_type": "code",
   "execution_count": 67,
   "id": "21ae171e",
   "metadata": {
    "ExecuteTime": {
     "end_time": "2023-06-04T11:41:30.472627Z",
     "start_time": "2023-06-04T11:41:30.471289Z"
    }
   },
   "outputs": [],
   "source": [
    "# Divide columns into two parts: columns to be grouped by with max values and columns to be grouped by with mean values\n",
    "avg_cols = ['laeq','lceq']\n",
    "max_cols = ['lamax','lcpeak']\n",
    "\n",
    "# Take average for the eq columns\n",
    "df_group = df.groupby(by=['#object_id','description','result_timestamp'])"
   ]
  },
  {
   "cell_type": "code",
   "execution_count": 68,
   "id": "17d6b23f",
   "metadata": {
    "ExecuteTime": {
     "end_time": "2023-06-04T11:41:31.738388Z",
     "start_time": "2023-06-04T11:41:30.474776Z"
    }
   },
   "outputs": [],
   "source": [
    "# Apply groupby to get the mean values for the corresponding columns\n",
    "df_group_avg = df_group.mean()\n",
    "df_group_avg = df_group_avg[avg_cols]"
   ]
  },
  {
   "cell_type": "code",
   "execution_count": 69,
   "id": "7e198053",
   "metadata": {
    "ExecuteTime": {
     "end_time": "2023-06-04T11:41:31.745858Z",
     "start_time": "2023-06-04T11:41:31.744236Z"
    }
   },
   "outputs": [
    {
     "data": {
      "text/plain": "                                                                  laeq  \\\n#object_id description                  result_timestamp                 \n255441     MP 03: Naamsestraat 62 Taste 2022-01-01 00:00:00  57.126833   \n                                        2022-01-01 01:00:00  50.853806   \n                                        2022-01-01 02:00:00  50.049903   \n                                        2022-01-01 03:00:00  48.964907   \n                                        2022-01-01 04:00:00  47.285893   \n\n                                                                  lceq  \n#object_id description                  result_timestamp                \n255441     MP 03: Naamsestraat 62 Taste 2022-01-01 00:00:00  63.104650  \n                                        2022-01-01 01:00:00  58.648786  \n                                        2022-01-01 02:00:00  58.282633  \n                                        2022-01-01 03:00:00  57.793745  \n                                        2022-01-01 04:00:00  55.967906  ",
      "text/html": "<div>\n<style scoped>\n    .dataframe tbody tr th:only-of-type {\n        vertical-align: middle;\n    }\n\n    .dataframe tbody tr th {\n        vertical-align: top;\n    }\n\n    .dataframe thead th {\n        text-align: right;\n    }\n</style>\n<table border=\"1\" class=\"dataframe\">\n  <thead>\n    <tr style=\"text-align: right;\">\n      <th></th>\n      <th></th>\n      <th></th>\n      <th>laeq</th>\n      <th>lceq</th>\n    </tr>\n    <tr>\n      <th>#object_id</th>\n      <th>description</th>\n      <th>result_timestamp</th>\n      <th></th>\n      <th></th>\n    </tr>\n  </thead>\n  <tbody>\n    <tr>\n      <th rowspan=\"5\" valign=\"top\">255441</th>\n      <th rowspan=\"5\" valign=\"top\">MP 03: Naamsestraat 62 Taste</th>\n      <th>2022-01-01 00:00:00</th>\n      <td>57.126833</td>\n      <td>63.104650</td>\n    </tr>\n    <tr>\n      <th>2022-01-01 01:00:00</th>\n      <td>50.853806</td>\n      <td>58.648786</td>\n    </tr>\n    <tr>\n      <th>2022-01-01 02:00:00</th>\n      <td>50.049903</td>\n      <td>58.282633</td>\n    </tr>\n    <tr>\n      <th>2022-01-01 03:00:00</th>\n      <td>48.964907</td>\n      <td>57.793745</td>\n    </tr>\n    <tr>\n      <th>2022-01-01 04:00:00</th>\n      <td>47.285893</td>\n      <td>55.967906</td>\n    </tr>\n  </tbody>\n</table>\n</div>"
     },
     "execution_count": 69,
     "metadata": {},
     "output_type": "execute_result"
    }
   ],
   "source": [
    "df_group_avg.head()"
   ]
  },
  {
   "cell_type": "code",
   "execution_count": 70,
   "id": "ecc460cb",
   "metadata": {
    "ExecuteTime": {
     "end_time": "2023-06-04T11:41:31.859114Z",
     "start_time": "2023-06-04T11:41:31.747474Z"
    }
   },
   "outputs": [],
   "source": [
    "# Apply groupby to get the max values for the corresponding columns\n",
    "df_group_max = df_group.max()\n",
    "df_group_max = df_group_max[max_cols]"
   ]
  },
  {
   "cell_type": "code",
   "execution_count": 71,
   "id": "7d09535c",
   "metadata": {
    "ExecuteTime": {
     "end_time": "2023-06-04T11:41:31.861126Z",
     "start_time": "2023-06-04T11:41:31.857907Z"
    }
   },
   "outputs": [
    {
     "data": {
      "text/plain": "                                                             lamax  lcpeak\n#object_id description                  result_timestamp                  \n255441     MP 03: Naamsestraat 62 Taste 2022-01-01 00:00:00  103.1  120.59\n                                        2022-01-01 01:00:00   85.1  103.78\n                                        2022-01-01 02:00:00   84.5   95.64\n                                        2022-01-01 03:00:00   75.9   96.30\n                                        2022-01-01 04:00:00   71.1   90.59",
      "text/html": "<div>\n<style scoped>\n    .dataframe tbody tr th:only-of-type {\n        vertical-align: middle;\n    }\n\n    .dataframe tbody tr th {\n        vertical-align: top;\n    }\n\n    .dataframe thead th {\n        text-align: right;\n    }\n</style>\n<table border=\"1\" class=\"dataframe\">\n  <thead>\n    <tr style=\"text-align: right;\">\n      <th></th>\n      <th></th>\n      <th></th>\n      <th>lamax</th>\n      <th>lcpeak</th>\n    </tr>\n    <tr>\n      <th>#object_id</th>\n      <th>description</th>\n      <th>result_timestamp</th>\n      <th></th>\n      <th></th>\n    </tr>\n  </thead>\n  <tbody>\n    <tr>\n      <th rowspan=\"5\" valign=\"top\">255441</th>\n      <th rowspan=\"5\" valign=\"top\">MP 03: Naamsestraat 62 Taste</th>\n      <th>2022-01-01 00:00:00</th>\n      <td>103.1</td>\n      <td>120.59</td>\n    </tr>\n    <tr>\n      <th>2022-01-01 01:00:00</th>\n      <td>85.1</td>\n      <td>103.78</td>\n    </tr>\n    <tr>\n      <th>2022-01-01 02:00:00</th>\n      <td>84.5</td>\n      <td>95.64</td>\n    </tr>\n    <tr>\n      <th>2022-01-01 03:00:00</th>\n      <td>75.9</td>\n      <td>96.30</td>\n    </tr>\n    <tr>\n      <th>2022-01-01 04:00:00</th>\n      <td>71.1</td>\n      <td>90.59</td>\n    </tr>\n  </tbody>\n</table>\n</div>"
     },
     "execution_count": 71,
     "metadata": {},
     "output_type": "execute_result"
    }
   ],
   "source": [
    "df_group_max.head()"
   ]
  },
  {
   "cell_type": "code",
   "execution_count": 72,
   "id": "53b59543",
   "metadata": {
    "ExecuteTime": {
     "end_time": "2023-06-04T11:41:31.864144Z",
     "start_time": "2023-06-04T11:41:31.861874Z"
    }
   },
   "outputs": [],
   "source": [
    "# Concatenate data frames\n",
    "df_group_combined = pd.concat([df_group_avg,df_group_max],axis=1)"
   ]
  },
  {
   "cell_type": "code",
   "execution_count": 73,
   "id": "2c455649",
   "metadata": {
    "ExecuteTime": {
     "end_time": "2023-06-04T11:41:31.873090Z",
     "start_time": "2023-06-04T11:41:31.867955Z"
    }
   },
   "outputs": [],
   "source": [
    "# Add back unit columns\n",
    "df_group_combined['lamax_unit']='dB(A)'\n",
    "df_group_combined['laeq_unit']='dB(A)'\n",
    "df_group_combined['lceq_unit']='dB(C)'\n",
    "df_group_combined['lcpeak_unit']='dB(C)'\n",
    "\n",
    "# Remove index\n",
    "df_group_combined=df_group_combined.reset_index()\n",
    "\n",
    "# Add additional columns\n",
    "df_group_combined['day']=df_group_combined['result_timestamp'].dt.day\n",
    "df_group_combined['hour']=df_group_combined['result_timestamp'].dt.hour"
   ]
  },
  {
   "cell_type": "code",
   "execution_count": 74,
   "id": "ce757fb4",
   "metadata": {
    "ExecuteTime": {
     "end_time": "2023-06-04T11:41:31.878798Z",
     "start_time": "2023-06-04T11:41:31.877115Z"
    }
   },
   "outputs": [
    {
     "data": {
      "text/plain": "   #object_id                   description    result_timestamp       laeq  \\\n0      255441  MP 03: Naamsestraat 62 Taste 2022-01-01 00:00:00  57.126833   \n1      255441  MP 03: Naamsestraat 62 Taste 2022-01-01 01:00:00  50.853806   \n2      255441  MP 03: Naamsestraat 62 Taste 2022-01-01 02:00:00  50.049903   \n3      255441  MP 03: Naamsestraat 62 Taste 2022-01-01 03:00:00  48.964907   \n4      255441  MP 03: Naamsestraat 62 Taste 2022-01-01 04:00:00  47.285893   \n\n        lceq  lamax  lcpeak lamax_unit laeq_unit lceq_unit lcpeak_unit  day  \\\n0  63.104650  103.1  120.59      dB(A)     dB(A)     dB(C)       dB(C)    1   \n1  58.648786   85.1  103.78      dB(A)     dB(A)     dB(C)       dB(C)    1   \n2  58.282633   84.5   95.64      dB(A)     dB(A)     dB(C)       dB(C)    1   \n3  57.793745   75.9   96.30      dB(A)     dB(A)     dB(C)       dB(C)    1   \n4  55.967906   71.1   90.59      dB(A)     dB(A)     dB(C)       dB(C)    1   \n\n   hour  \n0     0  \n1     1  \n2     2  \n3     3  \n4     4  ",
      "text/html": "<div>\n<style scoped>\n    .dataframe tbody tr th:only-of-type {\n        vertical-align: middle;\n    }\n\n    .dataframe tbody tr th {\n        vertical-align: top;\n    }\n\n    .dataframe thead th {\n        text-align: right;\n    }\n</style>\n<table border=\"1\" class=\"dataframe\">\n  <thead>\n    <tr style=\"text-align: right;\">\n      <th></th>\n      <th>#object_id</th>\n      <th>description</th>\n      <th>result_timestamp</th>\n      <th>laeq</th>\n      <th>lceq</th>\n      <th>lamax</th>\n      <th>lcpeak</th>\n      <th>lamax_unit</th>\n      <th>laeq_unit</th>\n      <th>lceq_unit</th>\n      <th>lcpeak_unit</th>\n      <th>day</th>\n      <th>hour</th>\n    </tr>\n  </thead>\n  <tbody>\n    <tr>\n      <th>0</th>\n      <td>255441</td>\n      <td>MP 03: Naamsestraat 62 Taste</td>\n      <td>2022-01-01 00:00:00</td>\n      <td>57.126833</td>\n      <td>63.104650</td>\n      <td>103.1</td>\n      <td>120.59</td>\n      <td>dB(A)</td>\n      <td>dB(A)</td>\n      <td>dB(C)</td>\n      <td>dB(C)</td>\n      <td>1</td>\n      <td>0</td>\n    </tr>\n    <tr>\n      <th>1</th>\n      <td>255441</td>\n      <td>MP 03: Naamsestraat 62 Taste</td>\n      <td>2022-01-01 01:00:00</td>\n      <td>50.853806</td>\n      <td>58.648786</td>\n      <td>85.1</td>\n      <td>103.78</td>\n      <td>dB(A)</td>\n      <td>dB(A)</td>\n      <td>dB(C)</td>\n      <td>dB(C)</td>\n      <td>1</td>\n      <td>1</td>\n    </tr>\n    <tr>\n      <th>2</th>\n      <td>255441</td>\n      <td>MP 03: Naamsestraat 62 Taste</td>\n      <td>2022-01-01 02:00:00</td>\n      <td>50.049903</td>\n      <td>58.282633</td>\n      <td>84.5</td>\n      <td>95.64</td>\n      <td>dB(A)</td>\n      <td>dB(A)</td>\n      <td>dB(C)</td>\n      <td>dB(C)</td>\n      <td>1</td>\n      <td>2</td>\n    </tr>\n    <tr>\n      <th>3</th>\n      <td>255441</td>\n      <td>MP 03: Naamsestraat 62 Taste</td>\n      <td>2022-01-01 03:00:00</td>\n      <td>48.964907</td>\n      <td>57.793745</td>\n      <td>75.9</td>\n      <td>96.30</td>\n      <td>dB(A)</td>\n      <td>dB(A)</td>\n      <td>dB(C)</td>\n      <td>dB(C)</td>\n      <td>1</td>\n      <td>3</td>\n    </tr>\n    <tr>\n      <th>4</th>\n      <td>255441</td>\n      <td>MP 03: Naamsestraat 62 Taste</td>\n      <td>2022-01-01 04:00:00</td>\n      <td>47.285893</td>\n      <td>55.967906</td>\n      <td>71.1</td>\n      <td>90.59</td>\n      <td>dB(A)</td>\n      <td>dB(A)</td>\n      <td>dB(C)</td>\n      <td>dB(C)</td>\n      <td>1</td>\n      <td>4</td>\n    </tr>\n  </tbody>\n</table>\n</div>"
     },
     "execution_count": 74,
     "metadata": {},
     "output_type": "execute_result"
    }
   ],
   "source": [
    "df_group_combined.head()"
   ]
  },
  {
   "cell_type": "code",
   "execution_count": 75,
   "outputs": [
    {
     "name": "stdout",
     "output_type": "stream",
     "text": [
      "<class 'pandas.core.frame.DataFrame'>\n",
      "RangeIndex: 2964 entries, 0 to 2963\n",
      "Data columns (total 13 columns):\n",
      " #   Column            Non-Null Count  Dtype         \n",
      "---  ------            --------------  -----         \n",
      " 0   #object_id        2964 non-null   int64         \n",
      " 1   description       2964 non-null   object        \n",
      " 2   result_timestamp  2964 non-null   datetime64[ns]\n",
      " 3   laeq              2964 non-null   float64       \n",
      " 4   lceq              2964 non-null   float64       \n",
      " 5   lamax             2964 non-null   float64       \n",
      " 6   lcpeak            2964 non-null   float64       \n",
      " 7   lamax_unit        2964 non-null   object        \n",
      " 8   laeq_unit         2964 non-null   object        \n",
      " 9   lceq_unit         2964 non-null   object        \n",
      " 10  lcpeak_unit       2964 non-null   object        \n",
      " 11  day               2964 non-null   int64         \n",
      " 12  hour              2964 non-null   int64         \n",
      "dtypes: datetime64[ns](1), float64(4), int64(3), object(5)\n",
      "memory usage: 301.2+ KB\n"
     ]
    }
   ],
   "source": [
    "df_group_combined.info()"
   ],
   "metadata": {
    "collapsed": false,
    "ExecuteTime": {
     "end_time": "2023-06-04T11:43:57.235877Z",
     "start_time": "2023-06-04T11:43:57.217207Z"
    }
   }
  },
  {
   "cell_type": "code",
   "execution_count": 76,
   "outputs": [
    {
     "data": {
      "text/plain": "(2964, 13)"
     },
     "execution_count": 76,
     "metadata": {},
     "output_type": "execute_result"
    }
   ],
   "source": [
    "df_group_combined.shape"
   ],
   "metadata": {
    "collapsed": false,
    "ExecuteTime": {
     "end_time": "2023-06-04T11:44:19.162064Z",
     "start_time": "2023-06-04T11:44:19.158616Z"
    }
   }
  },
  {
   "cell_type": "code",
   "execution_count": 78,
   "outputs": [
    {
     "data": {
      "text/plain": "           #object_id                   description  \\\ncount     2964.000000                          2964   \nunique            NaN                             4   \ntop               NaN  MP 03: Naamsestraat 62 Taste   \nfreq              NaN                           744   \nmean    255442.497976                           NaN   \nmin     255441.000000                           NaN   \n25%     255441.000000                           NaN   \n50%     255442.000000                           NaN   \n75%     255444.000000                           NaN   \nmax     255444.000000                           NaN   \nstd          1.120030                           NaN   \n\n                     result_timestamp         laeq         lceq        lamax  \\\ncount                            2964  2964.000000  2964.000000  2964.000000   \nunique                            NaN          NaN          NaN          NaN   \ntop                               NaN          NaN          NaN          NaN   \nfreq                              NaN          NaN          NaN          NaN   \nmean    2022-01-16 10:32:54.898785280    49.020480    58.733293    79.638428   \nmin               2022-01-01 00:00:00    32.649972    44.058219    44.900000   \n25%               2022-01-08 17:00:00    45.215604    55.335851    76.075000   \n50%               2022-01-16 10:00:00    51.708556    60.481903    79.150000   \n75%               2022-01-24 03:00:00    54.477569    63.151218    82.800000   \nmax               2022-01-31 23:00:00    66.624139    75.055814   108.500000   \nstd                               NaN     6.956328     5.833285     6.983844   \n\n             lcpeak lamax_unit laeq_unit lceq_unit lcpeak_unit          day  \\\ncount   2964.000000       2964      2964      2964        2964  2964.000000   \nunique          NaN          1         1         1           1          NaN   \ntop             NaN      dB(A)     dB(A)     dB(C)       dB(C)          NaN   \nfreq            NaN       2964      2964      2964        2964          NaN   \nmean      97.953357        NaN       NaN       NaN         NaN    15.959514   \nmin       69.440000        NaN       NaN       NaN         NaN     1.000000   \n25%       95.000000        NaN       NaN       NaN         NaN     8.000000   \n50%       98.270000        NaN       NaN       NaN         NaN    16.000000   \n75%      101.205000        NaN       NaN       NaN         NaN    24.000000   \nmax      121.270000        NaN       NaN       NaN         NaN    31.000000   \nstd        5.840188        NaN       NaN       NaN         NaN     8.941161   \n\n               hour  \ncount   2964.000000  \nunique          NaN  \ntop             NaN  \nfreq            NaN  \nmean      11.520243  \nmin        0.000000  \n25%        6.000000  \n50%       12.000000  \n75%       18.000000  \nmax       23.000000  \nstd        6.926542  ",
      "text/html": "<div>\n<style scoped>\n    .dataframe tbody tr th:only-of-type {\n        vertical-align: middle;\n    }\n\n    .dataframe tbody tr th {\n        vertical-align: top;\n    }\n\n    .dataframe thead th {\n        text-align: right;\n    }\n</style>\n<table border=\"1\" class=\"dataframe\">\n  <thead>\n    <tr style=\"text-align: right;\">\n      <th></th>\n      <th>#object_id</th>\n      <th>description</th>\n      <th>result_timestamp</th>\n      <th>laeq</th>\n      <th>lceq</th>\n      <th>lamax</th>\n      <th>lcpeak</th>\n      <th>lamax_unit</th>\n      <th>laeq_unit</th>\n      <th>lceq_unit</th>\n      <th>lcpeak_unit</th>\n      <th>day</th>\n      <th>hour</th>\n    </tr>\n  </thead>\n  <tbody>\n    <tr>\n      <th>count</th>\n      <td>2964.000000</td>\n      <td>2964</td>\n      <td>2964</td>\n      <td>2964.000000</td>\n      <td>2964.000000</td>\n      <td>2964.000000</td>\n      <td>2964.000000</td>\n      <td>2964</td>\n      <td>2964</td>\n      <td>2964</td>\n      <td>2964</td>\n      <td>2964.000000</td>\n      <td>2964.000000</td>\n    </tr>\n    <tr>\n      <th>unique</th>\n      <td>NaN</td>\n      <td>4</td>\n      <td>NaN</td>\n      <td>NaN</td>\n      <td>NaN</td>\n      <td>NaN</td>\n      <td>NaN</td>\n      <td>1</td>\n      <td>1</td>\n      <td>1</td>\n      <td>1</td>\n      <td>NaN</td>\n      <td>NaN</td>\n    </tr>\n    <tr>\n      <th>top</th>\n      <td>NaN</td>\n      <td>MP 03: Naamsestraat 62 Taste</td>\n      <td>NaN</td>\n      <td>NaN</td>\n      <td>NaN</td>\n      <td>NaN</td>\n      <td>NaN</td>\n      <td>dB(A)</td>\n      <td>dB(A)</td>\n      <td>dB(C)</td>\n      <td>dB(C)</td>\n      <td>NaN</td>\n      <td>NaN</td>\n    </tr>\n    <tr>\n      <th>freq</th>\n      <td>NaN</td>\n      <td>744</td>\n      <td>NaN</td>\n      <td>NaN</td>\n      <td>NaN</td>\n      <td>NaN</td>\n      <td>NaN</td>\n      <td>2964</td>\n      <td>2964</td>\n      <td>2964</td>\n      <td>2964</td>\n      <td>NaN</td>\n      <td>NaN</td>\n    </tr>\n    <tr>\n      <th>mean</th>\n      <td>255442.497976</td>\n      <td>NaN</td>\n      <td>2022-01-16 10:32:54.898785280</td>\n      <td>49.020480</td>\n      <td>58.733293</td>\n      <td>79.638428</td>\n      <td>97.953357</td>\n      <td>NaN</td>\n      <td>NaN</td>\n      <td>NaN</td>\n      <td>NaN</td>\n      <td>15.959514</td>\n      <td>11.520243</td>\n    </tr>\n    <tr>\n      <th>min</th>\n      <td>255441.000000</td>\n      <td>NaN</td>\n      <td>2022-01-01 00:00:00</td>\n      <td>32.649972</td>\n      <td>44.058219</td>\n      <td>44.900000</td>\n      <td>69.440000</td>\n      <td>NaN</td>\n      <td>NaN</td>\n      <td>NaN</td>\n      <td>NaN</td>\n      <td>1.000000</td>\n      <td>0.000000</td>\n    </tr>\n    <tr>\n      <th>25%</th>\n      <td>255441.000000</td>\n      <td>NaN</td>\n      <td>2022-01-08 17:00:00</td>\n      <td>45.215604</td>\n      <td>55.335851</td>\n      <td>76.075000</td>\n      <td>95.000000</td>\n      <td>NaN</td>\n      <td>NaN</td>\n      <td>NaN</td>\n      <td>NaN</td>\n      <td>8.000000</td>\n      <td>6.000000</td>\n    </tr>\n    <tr>\n      <th>50%</th>\n      <td>255442.000000</td>\n      <td>NaN</td>\n      <td>2022-01-16 10:00:00</td>\n      <td>51.708556</td>\n      <td>60.481903</td>\n      <td>79.150000</td>\n      <td>98.270000</td>\n      <td>NaN</td>\n      <td>NaN</td>\n      <td>NaN</td>\n      <td>NaN</td>\n      <td>16.000000</td>\n      <td>12.000000</td>\n    </tr>\n    <tr>\n      <th>75%</th>\n      <td>255444.000000</td>\n      <td>NaN</td>\n      <td>2022-01-24 03:00:00</td>\n      <td>54.477569</td>\n      <td>63.151218</td>\n      <td>82.800000</td>\n      <td>101.205000</td>\n      <td>NaN</td>\n      <td>NaN</td>\n      <td>NaN</td>\n      <td>NaN</td>\n      <td>24.000000</td>\n      <td>18.000000</td>\n    </tr>\n    <tr>\n      <th>max</th>\n      <td>255444.000000</td>\n      <td>NaN</td>\n      <td>2022-01-31 23:00:00</td>\n      <td>66.624139</td>\n      <td>75.055814</td>\n      <td>108.500000</td>\n      <td>121.270000</td>\n      <td>NaN</td>\n      <td>NaN</td>\n      <td>NaN</td>\n      <td>NaN</td>\n      <td>31.000000</td>\n      <td>23.000000</td>\n    </tr>\n    <tr>\n      <th>std</th>\n      <td>1.120030</td>\n      <td>NaN</td>\n      <td>NaN</td>\n      <td>6.956328</td>\n      <td>5.833285</td>\n      <td>6.983844</td>\n      <td>5.840188</td>\n      <td>NaN</td>\n      <td>NaN</td>\n      <td>NaN</td>\n      <td>NaN</td>\n      <td>8.941161</td>\n      <td>6.926542</td>\n    </tr>\n  </tbody>\n</table>\n</div>"
     },
     "execution_count": 78,
     "metadata": {},
     "output_type": "execute_result"
    }
   ],
   "source": [
    "df_group_combined.describe(include='all', datetime_is_numeric=True)"
   ],
   "metadata": {
    "collapsed": false,
    "ExecuteTime": {
     "end_time": "2023-06-04T11:45:01.094044Z",
     "start_time": "2023-06-04T11:45:01.072185Z"
    }
   }
  },
  {
   "cell_type": "code",
   "execution_count": 21,
   "id": "10109d45",
   "metadata": {
    "ExecuteTime": {
     "end_time": "2023-06-04T11:11:11.943857Z",
     "start_time": "2023-06-04T11:11:11.934170Z"
    }
   },
   "outputs": [],
   "source": [
    "# export results\n",
    "# df_group_combined.to_csv('../data/processed/export42_noise_level.csv',index=False)"
   ]
  },
  {
   "cell_type": "code",
   "execution_count": 21,
   "outputs": [],
   "source": [],
   "metadata": {
    "collapsed": false,
    "ExecuteTime": {
     "end_time": "2023-06-04T11:11:11.953968Z",
     "start_time": "2023-06-04T11:11:11.936534Z"
    }
   }
  }
 ],
 "metadata": {
  "kernelspec": {
   "display_name": "Python 3 (ipykernel)",
   "language": "python",
   "name": "python3"
  },
  "language_info": {
   "codemirror_mode": {
    "name": "ipython",
    "version": 3
   },
   "file_extension": ".py",
   "mimetype": "text/x-python",
   "name": "python",
   "nbconvert_exporter": "python",
   "pygments_lexer": "ipython3",
   "version": "3.9.12"
  }
 },
 "nbformat": 4,
 "nbformat_minor": 5
}
